{
 "cells": [
  {
   "cell_type": "markdown",
   "metadata": {},
   "source": [
    "# Question 1. Discuss string slicing and provide examples."
   ]
  },
  {
   "cell_type": "markdown",
   "metadata": {},
   "source": [
    "Answer:\n",
    "\n",
    "String slicing in python allows you to access a subset of characters from a string. It uses the syntax 'string[start:stop:step]'. String slicing uses both positive and negative indices.\n",
    "\n",
    "start => is the index where the slice begins.\n",
    "\n",
    "stop => is the index where the slice ends.\n",
    "\n",
    "step => is the amount by which the index increases."
   ]
  },
  {
   "cell_type": "code",
   "execution_count": 5,
   "metadata": {},
   "outputs": [
    {
     "name": "stdout",
     "output_type": "stream",
     "text": [
      "Veliston\n",
      "Rocha\n"
     ]
    }
   ],
   "source": [
    "# Basic slicing\n",
    "\n",
    "name =  \"Veliston Rocha\"\n",
    "\n",
    "print(name[0:8])\n",
    "\n",
    "print(name[9:15])"
   ]
  },
  {
   "cell_type": "markdown",
   "metadata": {},
   "source": [
    "Examples of Slicing"
   ]
  },
  {
   "cell_type": "code",
   "execution_count": 9,
   "metadata": {},
   "outputs": [
    {
     "name": "stdout",
     "output_type": "stream",
     "text": [
      "Hello\n",
      "World!\n",
      "Hello World!\n"
     ]
    }
   ],
   "source": [
    "# omitting indices means exclude\n",
    "\n",
    "text = \"Hello World!\"\n",
    "\n",
    "print(text[:5])\n",
    "\n",
    "print(text[6:])\n",
    "\n",
    "print(text[:]) "
   ]
  },
  {
   "cell_type": "code",
   "execution_count": 11,
   "metadata": {},
   "outputs": [
    {
     "name": "stdout",
     "output_type": "stream",
     "text": [
      "World!\n",
      "Hello\n"
     ]
    }
   ],
   "source": [
    "# using negative indices\n",
    "\n",
    "text = \"Hello World!\"\n",
    "\n",
    "print(text[-6:])\n",
    "\n",
    "print(text[-13:-7])"
   ]
  },
  {
   "cell_type": "code",
   "execution_count": 12,
   "metadata": {},
   "outputs": [
    {
     "name": "stdout",
     "output_type": "stream",
     "text": [
      "HloWrd\n",
      "el ol!\n",
      "!dlroW olleH\n"
     ]
    }
   ],
   "source": [
    "# using the step argument or parameter\n",
    "\n",
    "text = \"Hello World!\"\n",
    "\n",
    "print(text[::2]) \n",
    "\n",
    "print(text[1::2]) \n",
    "\n",
    "print(text[::-1]) # reverse the string"
   ]
  },
  {
   "cell_type": "code",
   "execution_count": 16,
   "metadata": {},
   "outputs": [
    {
     "name": "stdout",
     "output_type": "stream",
     "text": [
      "HloWrd\n",
      "eood\n"
     ]
    }
   ],
   "source": [
    "# step slicing\n",
    "\n",
    "text = \"Hello World!\"\n",
    "\n",
    "print(text[0:12:2]) # taking every second character\n",
    "\n",
    "print(text[1:12:3]) # taking every third character"
   ]
  },
  {
   "cell_type": "markdown",
   "metadata": {},
   "source": [
    "# Question 2. Explain the key features of lists in Python."
   ]
  },
  {
   "cell_type": "markdown",
   "metadata": {},
   "source": [
    "Answer:\n",
    "\n",
    "List in Python are versatile (able to adabt to many functions or activities) and widle used data structures that allow you to store and manipulate a collection of items."
   ]
  },
  {
   "cell_type": "markdown",
   "metadata": {},
   "source": [
    "### Key Features of List in Python"
   ]
  },
  {
   "cell_type": "markdown",
   "metadata": {},
   "source": [
    "a). Ordered Collection\n",
    "\n",
    "List maintain the order of elements as they are inserted.\n",
    "\n",
    "Elements can be accessed by their index positions. (indexes starts from 0)"
   ]
  },
  {
   "cell_type": "code",
   "execution_count": 2,
   "metadata": {},
   "outputs": [
    {
     "name": "stdout",
     "output_type": "stream",
     "text": [
      "apple\n",
      "banana\n",
      "cherry\n"
     ]
    }
   ],
   "source": [
    "# Example\n",
    "\n",
    "fruits = [\"apple\", \"banana\", \"cherry\"]\n",
    "print(fruits[0])\n",
    "print(fruits[1])\n",
    "print(fruits[2])"
   ]
  },
  {
   "cell_type": "markdown",
   "metadata": {},
   "source": [
    "b). Mutable \n",
    "\n",
    "Lists are mutable, meaning their elements can be change after creation."
   ]
  },
  {
   "cell_type": "code",
   "execution_count": 3,
   "metadata": {},
   "outputs": [
    {
     "name": "stdout",
     "output_type": "stream",
     "text": [
      "['apple', 'Mango', 'cherry']\n"
     ]
    }
   ],
   "source": [
    "# Example\n",
    "\n",
    "fruits = [\"apple\", \"banana\", \"cherry\"]\n",
    "\n",
    "fruits[1] = \"Mango\"\n",
    "\n",
    "print(fruits)"
   ]
  },
  {
   "cell_type": "markdown",
   "metadata": {},
   "source": [
    "c). Heterogeneous Elements\n",
    "\n",
    "List can contain elements of different data types. \n",
    "\n",
    "eg. integer, Float, Boolean, String etc"
   ]
  },
  {
   "cell_type": "code",
   "execution_count": 5,
   "metadata": {},
   "outputs": [
    {
     "data": {
      "text/plain": [
       "[28, 'Veliston', 0.39, True, False]"
      ]
     },
     "execution_count": 5,
     "metadata": {},
     "output_type": "execute_result"
    }
   ],
   "source": [
    "# Example\n",
    "\n",
    "# mixed list of all data types.\n",
    "\n",
    "mixed_list = [28,\"Veliston\",0.39,True,False]\n",
    "mixed_list"
   ]
  },
  {
   "cell_type": "markdown",
   "metadata": {},
   "source": [
    "d). Dynamic Size\n",
    "\n",
    "List can grow or shrink (get smaller) in size as elements are added or removed. "
   ]
  },
  {
   "cell_type": "code",
   "execution_count": 6,
   "metadata": {},
   "outputs": [
    {
     "name": "stdout",
     "output_type": "stream",
     "text": [
      "[1, 2, 3, 4, 5, 6]\n",
      "[1, 3, 4, 5, 6]\n"
     ]
    }
   ],
   "source": [
    "# Example\n",
    "\n",
    "numbers = [1,2,3,4,5]\n",
    "\n",
    "# adding element at end. \n",
    "numbers.append(6)\n",
    "print(numbers)\n",
    "\n",
    "# removing element by specifying element in brackets.\n",
    "numbers.remove(2)\n",
    "print(numbers)\n"
   ]
  },
  {
   "cell_type": "markdown",
   "metadata": {},
   "source": [
    "e). Supports Various Operations\n",
    "\n",
    "List support a variety operations such as slicing, concatenation (adding), and repetition."
   ]
  },
  {
   "cell_type": "code",
   "execution_count": 15,
   "metadata": {},
   "outputs": [
    {
     "name": "stdout",
     "output_type": "stream",
     "text": [
      "Colors = ['blue', 'green', 'red', 'pink']\n",
      "Slicing = ['green', 'red']\n",
      "More colors = ['violet', 'purple']\n",
      "All colors = ['blue', 'green', 'red', 'pink', 'violet', 'purple']\n",
      "Repeating Colors 3 times = ['blue', 'green', 'red', 'pink', 'blue', 'green', 'red', 'pink', 'blue', 'green', 'red', 'pink']\n"
     ]
    }
   ],
   "source": [
    "# Example \n",
    "\n",
    "colors = [\"blue\",\"green\",\"red\",\"pink\"]\n",
    "print(\"Colors =\",colors)\n",
    "\n",
    "# Slicing\n",
    "print(f\"Slicing =\",colors[1:3])\n",
    "\n",
    "# Concatenation\n",
    "more_colors = ['violet','purple']\n",
    "print(\"More colors =\",more_colors)\n",
    "all_colors  = colors + more_colors\n",
    "print(\"All colors =\", all_colors)\n",
    "\n",
    "# Repetition\n",
    "repeat_colors = colors * 3\n",
    "print(\"Repeating Colors 3 times =\",repeat_colors)"
   ]
  },
  {
   "cell_type": "markdown",
   "metadata": {},
   "source": [
    "f). Built-in Functions and Methods\n",
    "\n",
    "Python provides a range of built-in functions and methods to work with lists."
   ]
  },
  {
   "cell_type": "code",
   "execution_count": 17,
   "metadata": {},
   "outputs": [
    {
     "name": "stdout",
     "output_type": "stream",
     "text": [
      "3\n",
      "['apple', 'blueberry', 'cherry', 'date']\n",
      "['apple', 'banana', 'blueberry', 'cherry', 'date']\n",
      "['apple', 'blueberry', 'cherry', 'date']\n",
      "['apple', 'blueberry', 'cherry', 'date']\n",
      "['date', 'cherry', 'blueberry', 'apple']\n",
      "1\n",
      "3\n"
     ]
    }
   ],
   "source": [
    "# Example\n",
    "\n",
    "fruits = ['apple', 'blueberry', 'cherry']\n",
    "\n",
    "# Length of a list\n",
    "print(len(fruits))\n",
    "\n",
    "# Adding an element\n",
    "fruits.append(\"date\")\n",
    "print(fruits)\n",
    "\n",
    "# Inserting an element at mentioned index\n",
    "fruits.insert(1, \"banana\")\n",
    "print(fruits)\n",
    "\n",
    "# Removing an element\n",
    "fruits.remove(\"banana\")\n",
    "print(fruits)\n",
    "\n",
    "# Sorting a list (asscending)\n",
    "fruits.sort()\n",
    "print(fruits) \n",
    "\n",
    "# Reversing a list\n",
    "fruits.reverse()\n",
    "print(fruits)\n",
    "\n",
    "# Counting occurrences or repetition of an element\n",
    "print(fruits.count(\"apple\"))\n",
    "\n",
    "# Python is case sensitive\n",
    "apples = ['apple','Apple','apple','Apple','apple']\n",
    "print(apples.count(\"apple\"))\n"
   ]
  },
  {
   "cell_type": "markdown",
   "metadata": {},
   "source": [
    "g). List Comprehensions\n",
    "\n",
    "List comprehensions provide a concise way to create lists.\n",
    "\n",
    "concise meaning = giving lot of information in few words"
   ]
  },
  {
   "cell_type": "code",
   "execution_count": 24,
   "metadata": {},
   "outputs": [
    {
     "name": "stdout",
     "output_type": "stream",
     "text": [
      "Squares [0, 1, 4, 9, 16, 25, 36, 49, 64, 81, 100, 121, 144, 169, 196, 225, 256]\n",
      "Even Squares  [0, 4, 16, 36, 64, 100, 144, 196, 256]\n"
     ]
    }
   ],
   "source": [
    "# Example\n",
    "\n",
    "squares = [x**2 for x in range(17)]\n",
    "print(\"Squares\",squares)\n",
    "\n",
    "even_squares = [x**2 for x in range(17) if x % 2 == 0]\n",
    "print(\"Even Squares \", even_squares)"
   ]
  },
  {
   "cell_type": "markdown",
   "metadata": {},
   "source": [
    "# Question 3. Describe how to access, modify, and delete elements in a list with examples."
   ]
  },
  {
   "cell_type": "markdown",
   "metadata": {},
   "source": [
    "Answer:\n",
    "\n",
    "a). Accessing Elements:\n",
    "\n",
    "Elemets in a lis can be accessed using their index position. In python in indexing starts at 0."
   ]
  },
  {
   "cell_type": "code",
   "execution_count": 25,
   "metadata": {},
   "outputs": [
    {
     "name": "stdout",
     "output_type": "stream",
     "text": [
      "apple\n",
      "cherry\n",
      "date\n",
      "banana\n",
      "['banana', 'cherry']\n",
      "['apple', 'banana']\n",
      "['cherry', 'date']\n"
     ]
    }
   ],
   "source": [
    "fruits = [\"apple\", \"banana\", \"cherry\", \"date\"]\n",
    "\n",
    "# Accessing with Positive Indices:\n",
    "print(fruits[0])\n",
    "print(fruits[2])\n",
    "\n",
    "# Accessing with Negative Indices: \n",
    "print(fruits[-1])\n",
    "print(fruits[-3])\n",
    "\n",
    "# Slicing: accessing subset of the list\n",
    "print(fruits[1:3])\n",
    "print(fruits[:2])\n",
    "print(fruits[2:])"
   ]
  },
  {
   "cell_type": "markdown",
   "metadata": {},
   "source": [
    "b). Modifying Elements\n",
    "\n",
    "Elements in a list can be modified after creation by assigning a new value to a specific index."
   ]
  },
  {
   "cell_type": "code",
   "execution_count": 26,
   "metadata": {},
   "outputs": [
    {
     "name": "stdout",
     "output_type": "stream",
     "text": [
      "['blue', 'black', 'red', 'pink']\n",
      "['blue', 'Violete', 'white', 'pink']\n"
     ]
    }
   ],
   "source": [
    "colors = [\"blue\",\"green\",\"red\",\"pink\"]\n",
    "\n",
    "# Modifying a Single Element:\n",
    "colors[1] = \"black\"\n",
    "print(colors)\n",
    "\n",
    "# Modifying Multiple Elements using Slicing:\n",
    "colors[1:3] = [\"Violete\",\"white\"]\n",
    "print(colors)\n"
   ]
  },
  {
   "cell_type": "markdown",
   "metadata": {},
   "source": [
    "c). Deleting Elements\n",
    "\n",
    "Elemets in a list can be deleted using various methods such as 'del'statement, 'remove()' and 'pop()'."
   ]
  },
  {
   "cell_type": "code",
   "execution_count": 29,
   "metadata": {},
   "outputs": [
    {
     "name": "stdout",
     "output_type": "stream",
     "text": [
      "['blue', 'red', 'pink']\n",
      "['blue']\n"
     ]
    }
   ],
   "source": [
    "# Deleting with del Statement:\n",
    "\n",
    "colors = [\"blue\",\"green\",\"red\",\"pink\"]\n",
    "\n",
    "del colors[1]\n",
    "print(colors)\n",
    "\n",
    "del colors[1:3]\n",
    "print(colors)\n",
    "\n",
    "# we can also delete entire list\n",
    "# del colors\n"
   ]
  },
  {
   "cell_type": "code",
   "execution_count": 30,
   "metadata": {},
   "outputs": [
    {
     "name": "stdout",
     "output_type": "stream",
     "text": [
      "['apple', 'cherry', 'banana']\n"
     ]
    }
   ],
   "source": [
    "# Deleting with remove() Method:\n",
    "\n",
    "fruits = [\"apple\", \"banana\", \"cherry\", \"banana\"]\n",
    "# delets the specified value\n",
    "fruits.remove(\"banana\")\n",
    "print(fruits)"
   ]
  },
  {
   "cell_type": "code",
   "execution_count": 32,
   "metadata": {},
   "outputs": [
    {
     "name": "stdout",
     "output_type": "stream",
     "text": [
      "cherry\n",
      "['apple', 'banana']\n",
      "banana\n",
      "['apple']\n"
     ]
    }
   ],
   "source": [
    "# Deleting with pop() Method:\n",
    "fruits = [\"apple\", \"banana\", \"cherry\"]\n",
    "\n",
    "#delets the specified elemnts of a list or default last item\n",
    "last_fruit = fruits.pop()\n",
    "print(last_fruit)  \n",
    "print(fruits) \n",
    "\n",
    "second_fruit = fruits.pop(1)\n",
    "print(second_fruit)\n",
    "print(fruits)\n"
   ]
  },
  {
   "cell_type": "code",
   "execution_count": 34,
   "metadata": {},
   "outputs": [
    {
     "name": "stdout",
     "output_type": "stream",
     "text": [
      "[]\n"
     ]
    }
   ],
   "source": [
    "# Clearing the Entire List with clear() Method:\n",
    "\n",
    "fruits = [\"apple\", \"banana\", \"cherry\"]\n",
    "\n",
    "fruits.clear()\n",
    "print(fruits)\n",
    "\n",
    "# empty list with no items"
   ]
  },
  {
   "cell_type": "markdown",
   "metadata": {},
   "source": [
    "# Question 4. Compare and contrast tuples and lists with examples."
   ]
  },
  {
   "cell_type": "markdown",
   "metadata": {},
   "source": [
    "Answer: \n",
    "\n",
    "Both tuples and lists are used to score collections of items in Python.\n",
    "\n",
    "Syntax:\n",
    "\n",
    "> Lists are created using square brackets [].\n",
    "\n",
    "> Tuples are created using parentheses ()."
   ]
  },
  {
   "cell_type": "markdown",
   "metadata": {},
   "source": [
    "### Ordered Collections\n",
    "\n",
    "> Both tuples and list maintain the order of elements."
   ]
  },
  {
   "cell_type": "code",
   "execution_count": 1,
   "metadata": {},
   "outputs": [
    {
     "name": "stdout",
     "output_type": "stream",
     "text": [
      "[1, 2, 3, 4, 5, 6, 7]\n",
      "(1, 2, 3, 4, 5, 6, 7)\n"
     ]
    }
   ],
   "source": [
    "my_list = [1,2,3,4,5,6,7]\n",
    "print(my_list)\n",
    "\n",
    "my_tuple = (1,2,3,4,5,6,7)\n",
    "print(my_tuple)"
   ]
  },
  {
   "cell_type": "markdown",
   "metadata": {},
   "source": [
    "### Indexing and Slicing\n",
    "\n",
    "> Both support indexing and slicing to access elements."
   ]
  },
  {
   "cell_type": "code",
   "execution_count": 2,
   "metadata": {},
   "outputs": [
    {
     "name": "stdout",
     "output_type": "stream",
     "text": [
      "1\n",
      "1\n",
      "[2, 3]\n",
      "(2, 3)\n"
     ]
    }
   ],
   "source": [
    "my_list = [1,2,3,4,5,6,7]\n",
    "my_tuple = (1,2,3,4,5,6,7)\n",
    "\n",
    "print(my_list[0]) \n",
    "print(my_tuple[0])\n",
    "\n",
    "print(my_list[1:3])\n",
    "print(my_tuple[1:3])"
   ]
  },
  {
   "cell_type": "markdown",
   "metadata": {},
   "source": [
    "### Nested Structures\n",
    "\n",
    "> Both can contain nested collection of list or tuples whithin list or tuples"
   ]
  },
  {
   "cell_type": "code",
   "execution_count": 4,
   "metadata": {},
   "outputs": [
    {
     "name": "stdout",
     "output_type": "stream",
     "text": [
      "[1, [2, 3], [4, 5]]\n",
      "(1, (2, 3), (4, 5))\n"
     ]
    }
   ],
   "source": [
    "nested_list = [1, [2, 3], [4, 5]]\n",
    "print(nested_list)\n",
    "\n",
    "nested_tuple = (1, (2, 3), (4, 5))\n",
    "print(nested_tuple)"
   ]
  },
  {
   "cell_type": "markdown",
   "metadata": {},
   "source": [
    "### Mutability\n",
    "\n",
    "> List are mutable, meaning their elements can be changed after creation.\n",
    "\n",
    "> Tuples are immutable, meaning once created, their elements cannot be changed."
   ]
  },
  {
   "cell_type": "code",
   "execution_count": 5,
   "metadata": {},
   "outputs": [
    {
     "name": "stdout",
     "output_type": "stream",
     "text": [
      "[2, 7, 20, 5, 0]\n"
     ]
    }
   ],
   "source": [
    "# Modifying a list\n",
    "my_list = [2,7,8,5,0]\n",
    "\n",
    "my_list[2] = 20\n",
    "\n",
    "print(my_list)"
   ]
  },
  {
   "cell_type": "code",
   "execution_count": 8,
   "metadata": {},
   "outputs": [
    {
     "ename": "TypeError",
     "evalue": "'tuple' object does not support item assignment",
     "output_type": "error",
     "traceback": [
      "\u001b[1;31m---------------------------------------------------------------------------\u001b[0m",
      "\u001b[1;31mTypeError\u001b[0m                                 Traceback (most recent call last)",
      "Cell \u001b[1;32mIn[8], line 4\u001b[0m\n\u001b[0;32m      1\u001b[0m \u001b[38;5;66;03m# Modifying a tuple \u001b[39;00m\n\u001b[0;32m      2\u001b[0m my_tuple \u001b[38;5;241m=\u001b[39m (\u001b[38;5;241m2\u001b[39m,\u001b[38;5;241m8\u001b[39m,\u001b[38;5;241m3\u001b[39m,\u001b[38;5;241m2\u001b[39m,\u001b[38;5;241m1\u001b[39m,\u001b[38;5;241m9\u001b[39m)\n\u001b[1;32m----> 4\u001b[0m \u001b[43mmy_tuple\u001b[49m\u001b[43m[\u001b[49m\u001b[38;5;241;43m1\u001b[39;49m\u001b[43m]\u001b[49m \u001b[38;5;241m=\u001b[39m \u001b[38;5;241m17\u001b[39m  \u001b[38;5;66;03m# (raises an error)\u001b[39;00m\n\u001b[0;32m      6\u001b[0m \u001b[38;5;66;03m# cannot be modified\u001b[39;00m\n",
      "\u001b[1;31mTypeError\u001b[0m: 'tuple' object does not support item assignment"
     ]
    }
   ],
   "source": [
    "# Modifying a tuple \n",
    "my_tuple = (2,8,3,2,1,9)\n",
    "\n",
    "my_tuple[1] = 17  # (raises an error)\n",
    "\n",
    "# cannot be modified"
   ]
  },
  {
   "cell_type": "markdown",
   "metadata": {},
   "source": [
    "### Usage or When they are Used\n",
    "\n",
    "> Lists are generally used when you need a collection of items that can change over time.\n",
    "\n",
    "> Tuples are used when you need a collection of items that should not change, providing data integrity. (refuse to change)"
   ]
  },
  {
   "cell_type": "code",
   "execution_count": 9,
   "metadata": {},
   "outputs": [
    {
     "name": "stdout",
     "output_type": "stream",
     "text": [
      "['milk', 'bread', 'eggs', 'butter']\n"
     ]
    }
   ],
   "source": [
    "# List example (shopping list)\n",
    "\n",
    "shopping_list = [\"milk\", \"bread\", \"eggs\"]\n",
    "\n",
    "shopping_list.append(\"butter\")\n",
    "\n",
    "print(shopping_list)"
   ]
  },
  {
   "cell_type": "code",
   "execution_count": 12,
   "metadata": {},
   "outputs": [
    {
     "name": "stdout",
     "output_type": "stream",
     "text": [
      "(10.0, 20.0)\n"
     ]
    }
   ],
   "source": [
    "# Tuple example (coordinates) use to detetrmine position\n",
    "\n",
    "coordinates = (10.0, 20.0)\n",
    "\n",
    "print(coordinates)"
   ]
  },
  {
   "cell_type": "markdown",
   "metadata": {},
   "source": [
    "### Methods\n",
    "\n",
    "> Lists have more built-in methods due to their mutability e.g., append(), remove(), sort(), etc.\n",
    "\n",
    "> Tuples have fewer methods, primarily related to counting and finding elements."
   ]
  },
  {
   "cell_type": "code",
   "execution_count": 17,
   "metadata": {},
   "outputs": [
    {
     "name": "stdout",
     "output_type": "stream",
     "text": [
      "[1, 3, 3, 4, 5, 8]\n",
      "1\n",
      "2\n"
     ]
    }
   ],
   "source": [
    "my_list = [8, 3, 5, 1, 3]\n",
    "my_list.append(4)\n",
    "my_list.sort()\n",
    "print(my_list)\n",
    "\n",
    "my_tuple = (1, 2, 3)\n",
    "print(my_tuple.count(2))  \n",
    "print(my_tuple.index(3))\n"
   ]
  },
  {
   "cell_type": "markdown",
   "metadata": {},
   "source": [
    "### Performance\n",
    "\n",
    "> Tuples can be slightly more memory efficient and faster in iteration compared to lists because of their immutability."
   ]
  },
  {
   "cell_type": "code",
   "execution_count": 19,
   "metadata": {},
   "outputs": [
    {
     "name": "stdout",
     "output_type": "stream",
     "text": [
      "List size: 88 bytes\n",
      "Tuple size: 64 bytes\n"
     ]
    }
   ],
   "source": [
    "import sys\n",
    "\n",
    "list_size = sys.getsizeof([1, 2, 3])\n",
    "tuple_size = sys.getsizeof((1, 2, 3))\n",
    "print(f\"List size: {list_size} bytes\")  \n",
    "print(f\"Tuple size: {tuple_size} bytes\")"
   ]
  },
  {
   "cell_type": "markdown",
   "metadata": {},
   "source": [
    "### Hashability\n",
    "\n",
    "> Lists are not hashable and cannot be used as keys in dictionaries.\n",
    "\n",
    "> Tuples are hashable if they contain only hashable types and can be used as keys in dictionaries."
   ]
  },
  {
   "cell_type": "code",
   "execution_count": 21,
   "metadata": {},
   "outputs": [],
   "source": [
    "my_dict = {}\n",
    "\n",
    "# my_dict[[1, 2, 3]] = \"list\"  # unhashable type list"
   ]
  },
  {
   "cell_type": "code",
   "execution_count": 24,
   "metadata": {},
   "outputs": [
    {
     "name": "stdout",
     "output_type": "stream",
     "text": [
      "{(1, 2, 3): 'tuple'}\n",
      "dict_keys([(1, 2, 3)])\n"
     ]
    }
   ],
   "source": [
    "my_dict[(1, 2, 3)] = \"tuple\"\n",
    "\n",
    "print(my_dict) \n",
    "\n",
    "print(my_dict.keys())"
   ]
  },
  {
   "cell_type": "markdown",
   "metadata": {},
   "source": [
    "# Question 5. Describe the key features of sets and provide examples of their use."
   ]
  },
  {
   "cell_type": "markdown",
   "metadata": {},
   "source": [
    "Answer: \n",
    "\n",
    "Sets in Python are inordered collections of unique elements. They are useful for membership tests, removing duplicates from a sequence, and performing mathematical set operations like union, intersection, difference, and symmetric difference. "
   ]
  },
  {
   "cell_type": "markdown",
   "metadata": {},
   "source": [
    "### Unordered Collection:\n",
    "\n",
    "> Sets do not maintain any order of elements.\n",
    "\n",
    "> Elements have no specific position or index."
   ]
  },
  {
   "cell_type": "code",
   "execution_count": 29,
   "metadata": {},
   "outputs": [
    {
     "name": "stdout",
     "output_type": "stream",
     "text": [
      "{1, 2, 3, 7, 9}\n"
     ]
    }
   ],
   "source": [
    "my_set = {3, 1, 2, 9, 7}\n",
    "\n",
    "print(my_set) # order may vary (means order change)"
   ]
  },
  {
   "cell_type": "markdown",
   "metadata": {},
   "source": [
    "### Unique Elements:\n",
    "\n",
    "> Sets automatically remove duplicate elements"
   ]
  },
  {
   "cell_type": "code",
   "execution_count": 31,
   "metadata": {},
   "outputs": [
    {
     "data": {
      "text/plain": [
       "{1, 2, 3, 4, 5}"
      ]
     },
     "execution_count": 31,
     "metadata": {},
     "output_type": "execute_result"
    }
   ],
   "source": [
    "my_set = {1, 2, 2, 3, 4, 4, 5,5,5,5}\n",
    "\n",
    "my_set"
   ]
  },
  {
   "cell_type": "markdown",
   "metadata": {},
   "source": [
    "### Mutable:\n",
    "\n",
    "> Sets are mutable, meaning you can add or remove elements."
   ]
  },
  {
   "cell_type": "code",
   "execution_count": 32,
   "metadata": {},
   "outputs": [
    {
     "name": "stdout",
     "output_type": "stream",
     "text": [
      "{1, 2, 3, 4, 7}\n",
      "{1, 2, 4, 7}\n"
     ]
    }
   ],
   "source": [
    "my_set = {7, 1, 2, 3}\n",
    "my_set.add(4)\n",
    "print(my_set)  \n",
    "\n",
    "my_set.remove(3)\n",
    "print(my_set)  "
   ]
  },
  {
   "cell_type": "markdown",
   "metadata": {},
   "source": [
    "### Efficient Membership Testing:"
   ]
  },
  {
   "cell_type": "code",
   "execution_count": 33,
   "metadata": {},
   "outputs": [
    {
     "name": "stdout",
     "output_type": "stream",
     "text": [
      "True\n",
      "False\n"
     ]
    }
   ],
   "source": [
    "my_set = {13, 12, 44, 4, 5, 3}\n",
    "\n",
    "print(3 in my_set) \n",
    "print(6 in my_set)"
   ]
  },
  {
   "cell_type": "markdown",
   "metadata": {},
   "source": [
    "### No Indexing or Slicing:\n",
    "\n",
    "> Since sets are unordered, they do not support indexing and slicing,"
   ]
  },
  {
   "cell_type": "code",
   "execution_count": 35,
   "metadata": {},
   "outputs": [
    {
     "ename": "TypeError",
     "evalue": "'set' object is not subscriptable",
     "output_type": "error",
     "traceback": [
      "\u001b[1;31m---------------------------------------------------------------------------\u001b[0m",
      "\u001b[1;31mTypeError\u001b[0m                                 Traceback (most recent call last)",
      "Cell \u001b[1;32mIn[35], line 3\u001b[0m\n\u001b[0;32m      1\u001b[0m my_set \u001b[38;5;241m=\u001b[39m {\u001b[38;5;241m1\u001b[39m, \u001b[38;5;241m2\u001b[39m, \u001b[38;5;241m3\u001b[39m}\n\u001b[1;32m----> 3\u001b[0m \u001b[38;5;28mprint\u001b[39m(\u001b[43mmy_set\u001b[49m\u001b[43m[\u001b[49m\u001b[38;5;241;43m0\u001b[39;49m\u001b[43m]\u001b[49m)  \u001b[38;5;66;03m# error\u001b[39;00m\n",
      "\u001b[1;31mTypeError\u001b[0m: 'set' object is not subscriptable"
     ]
    }
   ],
   "source": [
    "my_set = {1, 2, 3}\n",
    "\n",
    "print(my_set[0])  # error\n"
   ]
  },
  {
   "cell_type": "markdown",
   "metadata": {},
   "source": [
    "### Set Operations:\n",
    "\n",
    "> Sets support mathematical set operations like union, intersection, difference, and symmetric difference."
   ]
  },
  {
   "cell_type": "code",
   "execution_count": 36,
   "metadata": {},
   "outputs": [
    {
     "name": "stdout",
     "output_type": "stream",
     "text": [
      "{1, 2, 3, 4, 5}\n",
      "{3}\n",
      "{1, 2}\n",
      "{4, 5}\n",
      "{1, 2, 4, 5}\n"
     ]
    }
   ],
   "source": [
    "set_a = {1, 2, 3}\n",
    "set_b = {3, 4, 5}\n",
    "\n",
    "# Union\n",
    "print(set_a | set_b)  \n",
    "\n",
    "# Intersection\n",
    "print(set_a & set_b)  \n",
    "\n",
    "# Difference\n",
    "print(set_a - set_b)\n",
    "print(set_b - set_a)  \n",
    "\n",
    "# Symmetric Difference\n",
    "print(set_a ^ set_b)"
   ]
  },
  {
   "cell_type": "markdown",
   "metadata": {},
   "source": [
    "### Immutable Counterpart (frozenset):\n",
    "\n",
    "> Python provides an immutable version of a set called frozenset. Elements cannot be added or removed from a frozenset."
   ]
  },
  {
   "cell_type": "code",
   "execution_count": 39,
   "metadata": {},
   "outputs": [
    {
     "name": "stdout",
     "output_type": "stream",
     "text": [
      "frozenset({1, 2, 3})\n"
     ]
    }
   ],
   "source": [
    "my_frozenset = frozenset([1, 2, 3])\n",
    "print(my_frozenset)  \n",
    "\n",
    "\n",
    "# my_frozenset.add(4) causses error\n",
    "\n",
    "# does not support add remove"
   ]
  },
  {
   "cell_type": "markdown",
   "metadata": {},
   "source": [
    "# Question 6. Discuss the use casses of tuples and sets in Python Programming."
   ]
  },
  {
   "cell_type": "markdown",
   "metadata": {},
   "source": [
    "## Use Cases of Tuples"
   ]
  },
  {
   "cell_type": "markdown",
   "metadata": {},
   "source": [
    "### Immutability:\n",
    "\n",
    "> Tuples are immutable, making them suitable for storing data that should not change throughout the program."
   ]
  },
  {
   "cell_type": "code",
   "execution_count": 40,
   "metadata": {},
   "outputs": [
    {
     "data": {
      "text/plain": [
       "(10.0, 20.0)"
      ]
     },
     "execution_count": 40,
     "metadata": {},
     "output_type": "execute_result"
    }
   ],
   "source": [
    "# Example \n",
    "\n",
    "coordinates = (10.0, 20.0)\n",
    "coordinates"
   ]
  },
  {
   "cell_type": "markdown",
   "metadata": {},
   "source": [
    "### Heterogeneous Data Storage:\n",
    "\n",
    "> Tuples can store heterogeneous data types, making them ideal for grouping different types of data."
   ]
  },
  {
   "cell_type": "code",
   "execution_count": 41,
   "metadata": {},
   "outputs": [
    {
     "data": {
      "text/plain": [
       "('Veliston Rocha', 21, True, 0.39)"
      ]
     },
     "execution_count": 41,
     "metadata": {},
     "output_type": "execute_result"
    }
   ],
   "source": [
    "person = (\"Veliston Rocha\",21,True,0.39)\n",
    "person"
   ]
  },
  {
   "cell_type": "markdown",
   "metadata": {},
   "source": [
    "### Dictionary Keys:\n",
    "\n",
    "> Tuples can be used as keys in dictionaries because they are hashable."
   ]
  },
  {
   "cell_type": "code",
   "execution_count": 43,
   "metadata": {},
   "outputs": [
    {
     "data": {
      "text/plain": [
       "{(70.22, -18.37): 'Goa'}"
      ]
     },
     "execution_count": 43,
     "metadata": {},
     "output_type": "execute_result"
    }
   ],
   "source": [
    "location = {} # empty dictionary\n",
    "\n",
    "coordinates = (70.22, -18.37)\n",
    "\n",
    "location[coordinates] = \"Goa\"\n",
    "\n",
    "location\n"
   ]
  },
  {
   "cell_type": "markdown",
   "metadata": {},
   "source": [
    "### Unpacking:\n",
    "\n",
    "> Tuples support unpacking, which can simplify assignment"
   ]
  },
  {
   "cell_type": "code",
   "execution_count": 44,
   "metadata": {},
   "outputs": [
    {
     "name": "stdout",
     "output_type": "stream",
     "text": [
      "10\n",
      "20\n"
     ]
    }
   ],
   "source": [
    "point = (10, 20)\n",
    "\n",
    "x, y = point\n",
    "\n",
    "print(x) \n",
    "print(y)  \n"
   ]
  },
  {
   "cell_type": "markdown",
   "metadata": {},
   "source": [
    "## Use Cases of Sets"
   ]
  },
  {
   "cell_type": "markdown",
   "metadata": {},
   "source": [
    "### Removing Duplicates:\n",
    "\n",
    "> Sets are used to remove duplicates from a collection."
   ]
  },
  {
   "cell_type": "code",
   "execution_count": 45,
   "metadata": {},
   "outputs": [
    {
     "name": "stdout",
     "output_type": "stream",
     "text": [
      "[1, 2, 3, 4, 5]\n"
     ]
    }
   ],
   "source": [
    "my_list = [1, 2, 2, 3, 4, 4, 5]\n",
    "\n",
    "unique_elements = list(set(my_list))\n",
    "\n",
    "print(unique_elements) "
   ]
  },
  {
   "cell_type": "markdown",
   "metadata": {},
   "source": [
    "### Membership Testing:\n",
    "\n",
    "> Sets provide efficient membership testing."
   ]
  },
  {
   "cell_type": "code",
   "execution_count": 46,
   "metadata": {},
   "outputs": [
    {
     "name": "stdout",
     "output_type": "stream",
     "text": [
      "True\n",
      "False\n"
     ]
    }
   ],
   "source": [
    "my_set = {1, 2, 3, 4, 5}\n",
    "\n",
    "print(3 in my_set)\n",
    "print(6 in my_set)"
   ]
  },
  {
   "cell_type": "markdown",
   "metadata": {},
   "source": [
    "### Mathematical Set Operations:\n",
    "\n",
    "> Sets support mathematical operations like union, intersection, difference, and symmetric difference."
   ]
  },
  {
   "cell_type": "code",
   "execution_count": 47,
   "metadata": {},
   "outputs": [
    {
     "name": "stdout",
     "output_type": "stream",
     "text": [
      "{1, 2, 3, 4, 5}\n",
      "{3}\n",
      "{1, 2}\n",
      "{4, 5}\n",
      "{1, 2, 4, 5}\n"
     ]
    }
   ],
   "source": [
    "set_a = {1, 2, 3}\n",
    "set_b = {3, 4, 5}\n",
    "\n",
    "# Union\n",
    "print(set_a | set_b)  \n",
    "\n",
    "# Intersection\n",
    "print(set_a & set_b)  \n",
    "\n",
    "# Difference\n",
    "print(set_a - set_b)\n",
    "print(set_b - set_a)  \n",
    "\n",
    "# Symmetric Difference\n",
    "print(set_a ^ set_b)"
   ]
  },
  {
   "cell_type": "markdown",
   "metadata": {},
   "source": [
    "### Finding Unique Elements:\n",
    "\n",
    "> Sets are useful for finding unique elements in a collection."
   ]
  },
  {
   "cell_type": "code",
   "execution_count": 48,
   "metadata": {},
   "outputs": [
    {
     "name": "stdout",
     "output_type": "stream",
     "text": [
      "{'apple', 'cherry', 'banana'}\n"
     ]
    }
   ],
   "source": [
    "fruits = [\"apple\", \"banana\", \"apple\", \"cherry\", \"banana\"]\n",
    "\n",
    "unique = set(fruits)\n",
    "\n",
    "print(unique)"
   ]
  },
  {
   "cell_type": "markdown",
   "metadata": {},
   "source": [
    "### Using frozenset for Immutable Sets:\n",
    "\n",
    "> frozenset provides an immutable version of a set, useful when a set needs to be constant and hashable."
   ]
  },
  {
   "cell_type": "code",
   "execution_count": 50,
   "metadata": {},
   "outputs": [
    {
     "name": "stdout",
     "output_type": "stream",
     "text": [
      "frozenset({1, 2, 3})\n"
     ]
    }
   ],
   "source": [
    "immutable_set = frozenset([1, 2, 3])\n",
    "\n",
    "print(immutable_set)"
   ]
  },
  {
   "cell_type": "markdown",
   "metadata": {},
   "source": [
    "# Question 7. Describe how to add, modify, and delete items in a dictionary with examples."
   ]
  },
  {
   "cell_type": "markdown",
   "metadata": {},
   "source": [
    "Answer:\n",
    "\n",
    "Dictionaries in Python are collection of key-value pairs where each is unique. They are mutable, meaning you can add, modify, and delete items."
   ]
  },
  {
   "cell_type": "markdown",
   "metadata": {},
   "source": [
    "### Adding Items"
   ]
  },
  {
   "cell_type": "code",
   "execution_count": 53,
   "metadata": {},
   "outputs": [
    {
     "name": "stdout",
     "output_type": "stream",
     "text": [
      "{'name': 'Veliston', 'age': 21, 'city': 'Panjim'}\n"
     ]
    }
   ],
   "source": [
    "# Adding a New Key-Value Pair:\n",
    "\n",
    "# You can add a new key-value pair by assigning a value to a new key.\n",
    "\n",
    "my_dict = {'name': 'Veliston', 'age': 21}\n",
    "\n",
    "my_dict['city'] = 'Panjim'\n",
    "\n",
    "print(my_dict)"
   ]
  },
  {
   "cell_type": "code",
   "execution_count": 54,
   "metadata": {},
   "outputs": [
    {
     "name": "stdout",
     "output_type": "stream",
     "text": [
      "{'name': 'Veliston', 'age': 21, 'city': 'Panjim', 'country': 'India', 'occupation': 'Unemployed'}\n"
     ]
    }
   ],
   "source": [
    "# Using update() Method:\n",
    "\n",
    "# You can add multiple key-value pairs using the update() method.\n",
    "\n",
    "my_dict.update({'country': 'India', 'occupation': 'Unemployed'})\n",
    "\n",
    "print(my_dict)\n"
   ]
  },
  {
   "cell_type": "markdown",
   "metadata": {},
   "source": [
    "### Modifying Items"
   ]
  },
  {
   "cell_type": "code",
   "execution_count": 55,
   "metadata": {},
   "outputs": [
    {
     "name": "stdout",
     "output_type": "stream",
     "text": [
      "{'name': 'Veliston', 'age': 20, 'city': 'Panjim', 'country': 'India', 'occupation': 'Unemployed'}\n"
     ]
    }
   ],
   "source": [
    "# Modifying an Existing Value:\n",
    "\n",
    "# You can modify the value associated with an existing key by reassigning it.\n",
    "\n",
    "my_dict['age'] = 20\n",
    "\n",
    "print(my_dict)"
   ]
  },
  {
   "cell_type": "code",
   "execution_count": 56,
   "metadata": {},
   "outputs": [
    {
     "name": "stdout",
     "output_type": "stream",
     "text": [
      "{'name': 'Veliston', 'age': 20, 'city': 'Delhi', 'country': 'India', 'occupation': 'Web Developer'}\n"
     ]
    }
   ],
   "source": [
    "# Using update() Method:\n",
    "\n",
    "# You can also modify multiple values using the update() method.\n",
    "\n",
    "my_dict.update({'city': 'Delhi', 'occupation': 'Web Developer'})\n",
    "\n",
    "print(my_dict)"
   ]
  },
  {
   "cell_type": "markdown",
   "metadata": {},
   "source": [
    "### Deleting Items"
   ]
  },
  {
   "cell_type": "code",
   "execution_count": 57,
   "metadata": {},
   "outputs": [
    {
     "name": "stdout",
     "output_type": "stream",
     "text": [
      "{'name': 'Veliston', 'age': 20, 'country': 'India', 'occupation': 'Web Developer'}\n"
     ]
    }
   ],
   "source": [
    "# Using del Statement:\n",
    "\n",
    "# You can delete a key-value pair using the del statement.\n",
    "\n",
    "del my_dict['city']\n",
    "\n",
    "print(my_dict)"
   ]
  },
  {
   "cell_type": "code",
   "execution_count": 58,
   "metadata": {},
   "outputs": [
    {
     "name": "stdout",
     "output_type": "stream",
     "text": [
      "20\n",
      "{'name': 'Veliston', 'country': 'India', 'occupation': 'Web Developer'}\n"
     ]
    }
   ],
   "source": [
    "# Using pop() Method:\n",
    "\n",
    "# The pop() method removes a key and returns its value.\n",
    "\n",
    "age = my_dict.pop('age')\n",
    "\n",
    "print(age)  \n",
    "print(my_dict)"
   ]
  },
  {
   "cell_type": "code",
   "execution_count": 60,
   "metadata": {},
   "outputs": [
    {
     "name": "stdout",
     "output_type": "stream",
     "text": [
      "('occupation', 'Web Developer')\n",
      "{'name': 'Veliston', 'country': 'India'}\n"
     ]
    }
   ],
   "source": [
    "# Using popitem() Method:\n",
    "\n",
    "# The popitem() method removes and returns the last inserted key-value pair as a tuple.\n",
    "\n",
    "last_item = my_dict.popitem()\n",
    "\n",
    "print(last_item)  \n",
    "\n",
    "print(my_dict)"
   ]
  },
  {
   "cell_type": "code",
   "execution_count": 61,
   "metadata": {},
   "outputs": [
    {
     "name": "stdout",
     "output_type": "stream",
     "text": [
      "{}\n"
     ]
    }
   ],
   "source": [
    "# Using clear() Method:\n",
    "\n",
    "# The clear() method removes all items from the dictionary.\n",
    "\n",
    "my_dict.clear()\n",
    "\n",
    "print(my_dict)  "
   ]
  },
  {
   "cell_type": "markdown",
   "metadata": {},
   "source": [
    "# Question 8. Discuss the importance of dictionary keys being immutable and provide examples."
   ]
  },
  {
   "cell_type": "markdown",
   "metadata": {},
   "source": [
    "Answer:\n",
    "\n",
    "Immutability means the value cannot be changed after it's created. Immutable types in Python include strings, numbers, and tuples."
   ]
  },
  {
   "cell_type": "markdown",
   "metadata": {},
   "source": [
    "Examples of Immutable and Mutable Types\n",
    "\n",
    "Immutable Types: Strings, numbers (integers, floats), and tuples .\n",
    "\n",
    "Mutable Types: Lists, dictionaries, sets."
   ]
  },
  {
   "cell_type": "markdown",
   "metadata": {},
   "source": [
    "### importance\n",
    "\n",
    "> Hash Consistency: Dictionaries use a process called hashing to quickly find keys. Immutable keys have a consistent hash value, ensuring the dictionary can always find the key.\n",
    "\n",
    ">Predictable Behavior: If keys could change, the dictionary wouldn't know where to find the key-value pair, leading to errors."
   ]
  },
  {
   "cell_type": "markdown",
   "metadata": {},
   "source": [
    "### Examples"
   ]
  },
  {
   "cell_type": "code",
   "execution_count": 63,
   "metadata": {},
   "outputs": [
    {
     "name": "stdout",
     "output_type": "stream",
     "text": [
      "{'name': 'Veliston', 42: 'The number', (1, 2, 3): 'Tuple key'}\n"
     ]
    }
   ],
   "source": [
    "# Using Immutable Keys (Works):\n",
    "\n",
    "my_dict = {\n",
    "    \"name\": \"Veliston\",\n",
    "    42: \"The number\",\n",
    "    (1, 2, 3): \"Tuple key\"\n",
    "}\n",
    "\n",
    "print(my_dict)"
   ]
  },
  {
   "cell_type": "code",
   "execution_count": 64,
   "metadata": {},
   "outputs": [
    {
     "ename": "TypeError",
     "evalue": "unhashable type: 'list'",
     "output_type": "error",
     "traceback": [
      "\u001b[1;31m---------------------------------------------------------------------------\u001b[0m",
      "\u001b[1;31mTypeError\u001b[0m                                 Traceback (most recent call last)",
      "Cell \u001b[1;32mIn[64], line 6\u001b[0m\n\u001b[0;32m      1\u001b[0m \u001b[38;5;66;03m# Mutable Keys (Doesn't Work):\u001b[39;00m\n\u001b[0;32m      2\u001b[0m \n\u001b[0;32m      3\u001b[0m \u001b[38;5;66;03m# Lists are mutable, so you can't use them as dictionary keys.\u001b[39;00m\n\u001b[0;32m      4\u001b[0m \n\u001b[0;32m      5\u001b[0m \u001b[38;5;66;03m#  This will cause an error:\u001b[39;00m\n\u001b[1;32m----> 6\u001b[0m my_dict \u001b[38;5;241m=\u001b[39m {[\u001b[38;5;241m1\u001b[39m, \u001b[38;5;241m2\u001b[39m, \u001b[38;5;241m3\u001b[39m]: \u001b[38;5;124m\"\u001b[39m\u001b[38;5;124mList key\u001b[39m\u001b[38;5;124m\"\u001b[39m}\n\u001b[0;32m      8\u001b[0m \u001b[38;5;66;03m# unhashable type: list\u001b[39;00m\n",
      "\u001b[1;31mTypeError\u001b[0m: unhashable type: 'list'"
     ]
    }
   ],
   "source": [
    "# Mutable Keys (Doesn't Work):\n",
    "\n",
    "# Lists are mutable, so you can't use them as dictionary keys.\n",
    "\n",
    "#  This will cause an error:\n",
    "my_dict = {[1, 2, 3]: \"List key\"}\n",
    "\n",
    "# unhashable type: list"
   ]
  },
  {
   "cell_type": "code",
   "execution_count": 65,
   "metadata": {},
   "outputs": [
    {
     "name": "stdout",
     "output_type": "stream",
     "text": [
      "{'name': 'Rocha', 'num': [1, 2, 3, 4]}\n"
     ]
    }
   ],
   "source": [
    "# Mutable Values (Works):\n",
    "\n",
    "# Dictionary values can be mutable, like lists.\n",
    "\n",
    "my_dict = {\n",
    "    \"name\": \"Rocha\",\n",
    "    \"num\": [1, 2, 3]\n",
    "}\n",
    "my_dict[\"num\"].append(4)\n",
    "print(my_dict) "
   ]
  },
  {
   "cell_type": "code",
   "execution_count": null,
   "metadata": {},
   "outputs": [],
   "source": []
  }
 ],
 "metadata": {
  "kernelspec": {
   "display_name": "Python 3",
   "language": "python",
   "name": "python3"
  },
  "language_info": {
   "codemirror_mode": {
    "name": "ipython",
    "version": 3
   },
   "file_extension": ".py",
   "mimetype": "text/x-python",
   "name": "python",
   "nbconvert_exporter": "python",
   "pygments_lexer": "ipython3",
   "version": "3.12.2"
  }
 },
 "nbformat": 4,
 "nbformat_minor": 2
}
